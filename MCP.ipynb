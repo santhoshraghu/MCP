{
 "cells": [
  {
   "cell_type": "code",
   "execution_count": null,
   "id": "79b29cd4",
   "metadata": {},
   "outputs": [],
   "source": []
  },
  {
   "cell_type": "markdown",
   "id": "09ec4c9d",
   "metadata": {},
   "source": [
    "MCP :"
   ]
  },
  {
   "cell_type": "code",
   "execution_count": null,
   "id": "afab88d2",
   "metadata": {},
   "outputs": [],
   "source": [
    "print(\"hellp\")"
   ]
  }
 ],
 "metadata": {
  "language_info": {
   "name": "python"
  }
 },
 "nbformat": 4,
 "nbformat_minor": 5
}
